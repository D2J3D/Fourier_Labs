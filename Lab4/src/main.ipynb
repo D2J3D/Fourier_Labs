{
 "cells": [
  {
   "cell_type": "code",
   "execution_count": null,
   "metadata": {},
   "outputs": [],
   "source": [
    "import matplotlib.pyplot as plt\n",
    "from numpy import sin, cos, pi, inf, sqrt, exp\n",
    "import random\n",
    "import numpy as np\n",
    "from scipy.integrate import quad\n",
    "import sympy as sp\n"
   ]
  },
  {
   "cell_type": "code",
   "execution_count": null,
   "metadata": {},
   "outputs": [],
   "source": [
    "def draw_signal(t, signal_t, label):\n",
    "    fig, ax = plt.subplots()\n",
    "    plt.ylabel(\"Signal\")\n",
    "    plt.xlabel('Time')\n",
    "    plt.title(label)\n",
    "    plt.grid(True)\n",
    "    ax.plot(t, signal_t)"
   ]
  },
  {
   "cell_type": "code",
   "execution_count": null,
   "metadata": {},
   "outputs": [],
   "source": [
    "dt = 0.01\n",
    "time = np.arange(-100, 100, dt)\n",
    "y = lambda t: sin(t)\n",
    "yt = [y(t) for t in time]"
   ]
  },
  {
   "cell_type": "code",
   "execution_count": null,
   "metadata": {},
   "outputs": [],
   "source": [
    "draw_signal(time, yt, \"\")"
   ]
  },
  {
   "cell_type": "code",
   "execution_count": null,
   "metadata": {},
   "outputs": [],
   "source": [
    "a = .1\n",
    "y = lambda t: sin(t) + a * (random.uniform(0, 1) - 0.5)\n",
    "yt = [y(t) for t in time]"
   ]
  },
  {
   "cell_type": "code",
   "execution_count": null,
   "metadata": {},
   "outputs": [],
   "source": [
    "draw_signal(time, yt, \"\")"
   ]
  },
  {
   "cell_type": "code",
   "execution_count": null,
   "metadata": {},
   "outputs": [],
   "source": [
    "def find_num_derivative_array(yt, dt):\n",
    "    return [(yt[k + 1] - yt[k]) / dt for k in range(len(yt) - 1)]"
   ]
  },
  {
   "cell_type": "code",
   "execution_count": null,
   "metadata": {},
   "outputs": [],
   "source": [
    "# test dericative calculation on a simple function\n",
    "fig, ax = plt.subplots(2)\n",
    "test_time = np.arange(-6.28, 6.28, dt)\n",
    "test_yt = [cos(ts) for ts in test_time]\n",
    "test_yt_d = find_num_derivative_array([sin(ts) for ts in test_time], dt)\n",
    "ax[0].plot(test_time, test_yt)\n",
    "ax[1].plot(test_time[:-1], test_yt_d)\n",
    "None"
   ]
  },
  {
   "cell_type": "code",
   "execution_count": null,
   "metadata": {},
   "outputs": [],
   "source": [
    "y_derivative = find_num_derivative_array(yt, dt)\n",
    "draw_signal(time[:-1], y_derivative, \"Derivative\")"
   ]
  },
  {
   "cell_type": "code",
   "execution_count": null,
   "metadata": {},
   "outputs": [],
   "source": [
    "def find_num_derivative_lambda(time, y, dt):\n",
    "    return [(y(time[k + 1]) - y(time[k])) / dt for k in range(len(time) - 1)]"
   ]
  },
  {
   "cell_type": "code",
   "execution_count": null,
   "metadata": {},
   "outputs": [],
   "source": [
    "def trapz_ft(function, time, dt):\n",
    "    def integrand(nu):\n",
    "        integrate = lambda t: function(t) * np.exp(-2j * np.pi * nu * t)\n",
    "        temp = [integrate(i) for i in time]\n",
    "        return np.trapz(temp, time)\n",
    "    return lambda nu1: integrand(nu1)"
   ]
  },
  {
   "cell_type": "code",
   "execution_count": null,
   "metadata": {},
   "outputs": [],
   "source": [
    "def trapz_ft_derivative(function, time, dt):\n",
    "    def integrand(nu):\n",
    "        integrate = lambda t: function(t) * np.exp(-2j * np.pi * nu * t) * 2j * pi * nu \n",
    "        temp = [integrate(i) for i in time]\n",
    "        return np.trapz(temp, time)\n",
    "    return lambda nu: integrand(nu)"
   ]
  },
  {
   "cell_type": "code",
   "execution_count": null,
   "metadata": {},
   "outputs": [],
   "source": [
    "# Define symbols for time and frequency\n",
    "t, nu = sp.symbols('t nu')\n",
    "\n",
    "# Example symbolic expression\n",
    "expr = sp.sin(t**2)\n",
    "\n",
    "# Convert the symbolic expression to a Numpy function\n",
    "func = sp.lambdify([t], expr, \"numpy\")\n",
    "\n",
    "def trapz_ft_derivative_improved(function, time, dt):\n",
    "    \"\"\"Improved version of the Fourier Transform Derivative using Trapezoidal Rule.\"\"\"\n",
    "\n",
    "    def integrand(nu):\n",
    "        omega = 2 * np.pi * nu\n",
    "        exponential_term = np.exp(-1j * omega * time)\n",
    "\n",
    "        # Avoid expensive elementwise multiplication between arrays\n",
    "        exp_term_real = np.cos(-omega * time)\n",
    "        exp_term_imag = np.sin(-omega * time)\n",
    "        product = function(time) * exponential_term\n",
    "\n",
    "        # Vectorized operation using real and imaginary parts\n",
    "        integral_real = np.trapz((product[:, None] * exp_term_real).sum(axis=0))\n",
    "        integral_imag = np.trapz((product[:, None] * exp_term_imag).sum(axis=0))\n",
    "\n",
    "        return integral_real + 1j * integral_imag\n",
    "\n",
    "    return integrand"
   ]
  },
  {
   "cell_type": "code",
   "execution_count": null,
   "metadata": {},
   "outputs": [],
   "source": [
    "short_time = np.linspace(-1, 1, 5)\n",
    "y_derivative_ft = trapz_ft_derivative_improved(y, time, 1)\n",
    "print(y_derivative_ft)"
   ]
  },
  {
   "cell_type": "code",
   "execution_count": null,
   "metadata": {},
   "outputs": [],
   "source": [
    "fig, ax = plt.subplots()\n",
    "ax.grid(True)\n",
    "\n",
    "ax.plot(short_time, [y_derivative_ft(i) for i in short_time])\n",
    "# ax.legend()\n",
    "plt.show()\n"
   ]
  }
 ],
 "metadata": {
  "kernelspec": {
   "display_name": "Python 3",
   "language": "python",
   "name": "python3"
  },
  "language_info": {
   "codemirror_mode": {
    "name": "ipython",
    "version": 3
   },
   "file_extension": ".py",
   "mimetype": "text/x-python",
   "name": "python",
   "nbconvert_exporter": "python",
   "pygments_lexer": "ipython3",
   "version": "3.8.10"
  }
 },
 "nbformat": 4,
 "nbformat_minor": 2
}
