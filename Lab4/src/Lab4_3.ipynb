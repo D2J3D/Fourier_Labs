{
  "cells": [
    {
      "cell_type": "code",
      "execution_count": null,
      "metadata": {
        "id": "L5VG0kEbehP0"
      },
      "outputs": [],
      "source": [
        "import pandas as pd"
      ]
    },
    {
      "cell_type": "code",
      "execution_count": null,
      "metadata": {
        "id": "L4av7UHGehP1"
      },
      "outputs": [],
      "source": [
        "import matplotlib.pyplot as plt\n",
        "import seaborn as sns\n",
        "import numpy as np\n",
        "from scipy import signal"
      ]
    },
    {
      "cell_type": "code",
      "execution_count": null,
      "metadata": {
        "id": "iXm7hCfsehP1"
      },
      "outputs": [],
      "source": [
        "df = pd.read_csv('../input/SBER_240202_240601.csv', sep=\";\")"
      ]
    },
    {
      "cell_type": "code",
      "execution_count": null,
      "metadata": {
        "id": "zL5NUUtmehP1",
        "outputId": "b1f4c63c-4cf8-4055-8ca2-8b39372b3fae"
      },
      "outputs": [
        {
          "name": "stdout",
          "output_type": "stream",
          "text": [
            "<class 'pandas.core.frame.DataFrame'>\n",
            "RangeIndex: 1161 entries, 0 to 1160\n",
            "Data columns (total 9 columns):\n",
            " #   Column    Non-Null Count  Dtype  \n",
            "---  ------    --------------  -----  \n",
            " 0   <TICKER>  1161 non-null   object \n",
            " 1   <PER>     1161 non-null   int64  \n",
            " 2   <DATE>    1161 non-null   int64  \n",
            " 3   <TIME>    1161 non-null   int64  \n",
            " 4   <OPEN>    1161 non-null   float64\n",
            " 5   <HIGH>    1161 non-null   float64\n",
            " 6   <LOW>     1161 non-null   float64\n",
            " 7   <CLOSE>   1161 non-null   float64\n",
            " 8   <VOL>     1161 non-null   int64  \n",
            "dtypes: float64(4), int64(4), object(1)\n",
            "memory usage: 81.8+ KB\n"
          ]
        }
      ],
      "source": [
        "df.info()"
      ]
    },
    {
      "cell_type": "code",
      "execution_count": null,
      "metadata": {
        "id": "moQhDsaKehP2",
        "outputId": "60ed5b69-7982-42a8-c2fd-0b289b4ccf09"
      },
      "outputs": [
        {
          "data": {
            "text/html": [
              "<div>\n",
              "<style scoped>\n",
              "    .dataframe tbody tr th:only-of-type {\n",
              "        vertical-align: middle;\n",
              "    }\n",
              "\n",
              "    .dataframe tbody tr th {\n",
              "        vertical-align: top;\n",
              "    }\n",
              "\n",
              "    .dataframe thead th {\n",
              "        text-align: right;\n",
              "    }\n",
              "</style>\n",
              "<table border=\"1\" class=\"dataframe\">\n",
              "  <thead>\n",
              "    <tr style=\"text-align: right;\">\n",
              "      <th></th>\n",
              "      <th>&lt;TICKER&gt;</th>\n",
              "      <th>&lt;PER&gt;</th>\n",
              "      <th>&lt;DATE&gt;</th>\n",
              "      <th>&lt;TIME&gt;</th>\n",
              "      <th>&lt;OPEN&gt;</th>\n",
              "      <th>&lt;HIGH&gt;</th>\n",
              "      <th>&lt;LOW&gt;</th>\n",
              "      <th>&lt;CLOSE&gt;</th>\n",
              "      <th>&lt;VOL&gt;</th>\n",
              "    </tr>\n",
              "  </thead>\n",
              "  <tbody>\n",
              "    <tr>\n",
              "      <th>752</th>\n",
              "      <td>SBER</td>\n",
              "      <td>60</td>\n",
              "      <td>240419</td>\n",
              "      <td>210000</td>\n",
              "      <td>307.89</td>\n",
              "      <td>307.92</td>\n",
              "      <td>307.50</td>\n",
              "      <td>307.81</td>\n",
              "      <td>624480</td>\n",
              "    </tr>\n",
              "    <tr>\n",
              "      <th>495</th>\n",
              "      <td>SBER</td>\n",
              "      <td>60</td>\n",
              "      <td>240326</td>\n",
              "      <td>160000</td>\n",
              "      <td>293.57</td>\n",
              "      <td>293.98</td>\n",
              "      <td>293.27</td>\n",
              "      <td>293.33</td>\n",
              "      <td>743810</td>\n",
              "    </tr>\n",
              "    <tr>\n",
              "      <th>1106</th>\n",
              "      <td>SBER</td>\n",
              "      <td>60</td>\n",
              "      <td>240528</td>\n",
              "      <td>110000</td>\n",
              "      <td>319.88</td>\n",
              "      <td>320.45</td>\n",
              "      <td>318.81</td>\n",
              "      <td>319.77</td>\n",
              "      <td>4141580</td>\n",
              "    </tr>\n",
              "    <tr>\n",
              "      <th>323</th>\n",
              "      <td>SBER</td>\n",
              "      <td>60</td>\n",
              "      <td>240307</td>\n",
              "      <td>120000</td>\n",
              "      <td>297.92</td>\n",
              "      <td>298.95</td>\n",
              "      <td>297.59</td>\n",
              "      <td>298.03</td>\n",
              "      <td>2844050</td>\n",
              "    </tr>\n",
              "    <tr>\n",
              "      <th>308</th>\n",
              "      <td>SBER</td>\n",
              "      <td>60</td>\n",
              "      <td>240306</td>\n",
              "      <td>110000</td>\n",
              "      <td>298.13</td>\n",
              "      <td>298.75</td>\n",
              "      <td>298.00</td>\n",
              "      <td>298.15</td>\n",
              "      <td>1605000</td>\n",
              "    </tr>\n",
              "    <tr>\n",
              "      <th>1095</th>\n",
              "      <td>SBER</td>\n",
              "      <td>60</td>\n",
              "      <td>240527</td>\n",
              "      <td>140000</td>\n",
              "      <td>318.49</td>\n",
              "      <td>320.00</td>\n",
              "      <td>318.39</td>\n",
              "      <td>319.34</td>\n",
              "      <td>2232380</td>\n",
              "    </tr>\n",
              "    <tr>\n",
              "      <th>1051</th>\n",
              "      <td>SBER</td>\n",
              "      <td>60</td>\n",
              "      <td>240522</td>\n",
              "      <td>120000</td>\n",
              "      <td>322.54</td>\n",
              "      <td>322.70</td>\n",
              "      <td>322.24</td>\n",
              "      <td>322.60</td>\n",
              "      <td>1376270</td>\n",
              "    </tr>\n",
              "    <tr>\n",
              "      <th>18</th>\n",
              "      <td>SBER</td>\n",
              "      <td>60</td>\n",
              "      <td>240205</td>\n",
              "      <td>140000</td>\n",
              "      <td>278.13</td>\n",
              "      <td>278.20</td>\n",
              "      <td>277.70</td>\n",
              "      <td>277.87</td>\n",
              "      <td>769270</td>\n",
              "    </tr>\n",
              "    <tr>\n",
              "      <th>389</th>\n",
              "      <td>SBER</td>\n",
              "      <td>60</td>\n",
              "      <td>240314</td>\n",
              "      <td>220000</td>\n",
              "      <td>296.06</td>\n",
              "      <td>296.29</td>\n",
              "      <td>296.00</td>\n",
              "      <td>296.08</td>\n",
              "      <td>500230</td>\n",
              "    </tr>\n",
              "    <tr>\n",
              "      <th>541</th>\n",
              "      <td>SBER</td>\n",
              "      <td>60</td>\n",
              "      <td>240329</td>\n",
              "      <td>200000</td>\n",
              "      <td>298.87</td>\n",
              "      <td>298.90</td>\n",
              "      <td>298.68</td>\n",
              "      <td>298.80</td>\n",
              "      <td>369980</td>\n",
              "    </tr>\n",
              "    <tr>\n",
              "      <th>244</th>\n",
              "      <td>SBER</td>\n",
              "      <td>60</td>\n",
              "      <td>240228</td>\n",
              "      <td>170000</td>\n",
              "      <td>292.01</td>\n",
              "      <td>292.75</td>\n",
              "      <td>292.00</td>\n",
              "      <td>292.54</td>\n",
              "      <td>1681450</td>\n",
              "    </tr>\n",
              "    <tr>\n",
              "      <th>606</th>\n",
              "      <td>SBER</td>\n",
              "      <td>60</td>\n",
              "      <td>240405</td>\n",
              "      <td>150000</td>\n",
              "      <td>305.93</td>\n",
              "      <td>306.06</td>\n",
              "      <td>305.40</td>\n",
              "      <td>306.06</td>\n",
              "      <td>968120</td>\n",
              "    </tr>\n",
              "  </tbody>\n",
              "</table>\n",
              "</div>"
            ],
            "text/plain": [
              "     <TICKER>  <PER>  <DATE>  <TIME>  <OPEN>  <HIGH>   <LOW>  <CLOSE>    <VOL>\n",
              "752      SBER     60  240419  210000  307.89  307.92  307.50   307.81   624480\n",
              "495      SBER     60  240326  160000  293.57  293.98  293.27   293.33   743810\n",
              "1106     SBER     60  240528  110000  319.88  320.45  318.81   319.77  4141580\n",
              "323      SBER     60  240307  120000  297.92  298.95  297.59   298.03  2844050\n",
              "308      SBER     60  240306  110000  298.13  298.75  298.00   298.15  1605000\n",
              "1095     SBER     60  240527  140000  318.49  320.00  318.39   319.34  2232380\n",
              "1051     SBER     60  240522  120000  322.54  322.70  322.24   322.60  1376270\n",
              "18       SBER     60  240205  140000  278.13  278.20  277.70   277.87   769270\n",
              "389      SBER     60  240314  220000  296.06  296.29  296.00   296.08   500230\n",
              "541      SBER     60  240329  200000  298.87  298.90  298.68   298.80   369980\n",
              "244      SBER     60  240228  170000  292.01  292.75  292.00   292.54  1681450\n",
              "606      SBER     60  240405  150000  305.93  306.06  305.40   306.06   968120"
            ]
          },
          "execution_count": 48,
          "metadata": {},
          "output_type": "execute_result"
        }
      ],
      "source": [
        "df.sample(12)"
      ]
    },
    {
      "cell_type": "code",
      "execution_count": null,
      "metadata": {
        "id": "5QAiFQJhehP2"
      },
      "outputs": [],
      "source": [
        "df = df.drop(['<TICKER>', '<PER>', '<VOL>'], axis=1)"
      ]
    },
    {
      "cell_type": "code",
      "execution_count": null,
      "metadata": {
        "id": "gviVOVJ5ehP2"
      },
      "outputs": [],
      "source": [
        "df = df.rename(columns={'<DATE>' : 'date', '<TIME>' : 'time', '<LOW>': 'low', '<OPEN>':'open', '<CLOSE>': 'close', '<HIGH>' : 'high'})"
      ]
    },
    {
      "cell_type": "code",
      "execution_count": null,
      "metadata": {
        "id": "mMp3lBXMehP3",
        "outputId": "e2d5c192-d27e-4458-e5f6-16b5689cad0c"
      },
      "outputs": [
        {
          "data": {
            "text/html": [
              "<div>\n",
              "<style scoped>\n",
              "    .dataframe tbody tr th:only-of-type {\n",
              "        vertical-align: middle;\n",
              "    }\n",
              "\n",
              "    .dataframe tbody tr th {\n",
              "        vertical-align: top;\n",
              "    }\n",
              "\n",
              "    .dataframe thead th {\n",
              "        text-align: right;\n",
              "    }\n",
              "</style>\n",
              "<table border=\"1\" class=\"dataframe\">\n",
              "  <thead>\n",
              "    <tr style=\"text-align: right;\">\n",
              "      <th></th>\n",
              "      <th>date</th>\n",
              "      <th>time</th>\n",
              "      <th>open</th>\n",
              "      <th>high</th>\n",
              "      <th>low</th>\n",
              "      <th>close</th>\n",
              "    </tr>\n",
              "  </thead>\n",
              "  <tbody>\n",
              "    <tr>\n",
              "      <th>832</th>\n",
              "      <td>240427</td>\n",
              "      <td>170000</td>\n",
              "      <td>308.92</td>\n",
              "      <td>309.49</td>\n",
              "      <td>308.92</td>\n",
              "      <td>309.30</td>\n",
              "    </tr>\n",
              "    <tr>\n",
              "      <th>130</th>\n",
              "      <td>240215</td>\n",
              "      <td>150000</td>\n",
              "      <td>289.33</td>\n",
              "      <td>289.65</td>\n",
              "      <td>289.00</td>\n",
              "      <td>289.33</td>\n",
              "    </tr>\n",
              "    <tr>\n",
              "      <th>428</th>\n",
              "      <td>240319</td>\n",
              "      <td>190000</td>\n",
              "      <td>295.69</td>\n",
              "      <td>296.53</td>\n",
              "      <td>295.41</td>\n",
              "      <td>296.15</td>\n",
              "    </tr>\n",
              "    <tr>\n",
              "      <th>894</th>\n",
              "      <td>240503</td>\n",
              "      <td>230000</td>\n",
              "      <td>307.73</td>\n",
              "      <td>307.78</td>\n",
              "      <td>307.45</td>\n",
              "      <td>307.53</td>\n",
              "    </tr>\n",
              "    <tr>\n",
              "      <th>488</th>\n",
              "      <td>240325</td>\n",
              "      <td>230000</td>\n",
              "      <td>293.95</td>\n",
              "      <td>293.95</td>\n",
              "      <td>293.65</td>\n",
              "      <td>293.90</td>\n",
              "    </tr>\n",
              "    <tr>\n",
              "      <th>1137</th>\n",
              "      <td>240530</td>\n",
              "      <td>140000</td>\n",
              "      <td>319.79</td>\n",
              "      <td>320.13</td>\n",
              "      <td>319.09</td>\n",
              "      <td>319.24</td>\n",
              "    </tr>\n",
              "    <tr>\n",
              "      <th>419</th>\n",
              "      <td>240319</td>\n",
              "      <td>100000</td>\n",
              "      <td>298.30</td>\n",
              "      <td>299.14</td>\n",
              "      <td>298.10</td>\n",
              "      <td>298.60</td>\n",
              "    </tr>\n",
              "    <tr>\n",
              "      <th>269</th>\n",
              "      <td>240301</td>\n",
              "      <td>140000</td>\n",
              "      <td>292.82</td>\n",
              "      <td>292.99</td>\n",
              "      <td>292.80</td>\n",
              "      <td>292.99</td>\n",
              "    </tr>\n",
              "  </tbody>\n",
              "</table>\n",
              "</div>"
            ],
            "text/plain": [
              "        date    time    open    high     low   close\n",
              "832   240427  170000  308.92  309.49  308.92  309.30\n",
              "130   240215  150000  289.33  289.65  289.00  289.33\n",
              "428   240319  190000  295.69  296.53  295.41  296.15\n",
              "894   240503  230000  307.73  307.78  307.45  307.53\n",
              "488   240325  230000  293.95  293.95  293.65  293.90\n",
              "1137  240530  140000  319.79  320.13  319.09  319.24\n",
              "419   240319  100000  298.30  299.14  298.10  298.60\n",
              "269   240301  140000  292.82  292.99  292.80  292.99"
            ]
          },
          "execution_count": 51,
          "metadata": {},
          "output_type": "execute_result"
        }
      ],
      "source": [
        "df.sample(8)"
      ]
    },
    {
      "cell_type": "code",
      "execution_count": null,
      "metadata": {
        "id": "eJcskjUaehP3",
        "outputId": "def7f955-8a16-4487-f5be-f85a6b940685"
      },
      "outputs": [
        {
          "data": {
            "text/plain": [
              "<Axes: >"
            ]
          },
          "execution_count": 21,
          "metadata": {},
          "output_type": "execute_result"
        },
        {
          "data": {
            "image/png": "[encoded data removed]",
            "text/plain": [
              "<Figure size 640x480 with 1 Axes>"
            ]
          },
          "metadata": {},
          "output_type": "display_data"
        }
      ],
      "source": [
        "fig, ax = plt.subplots()\n",
        "df['high'].plot(kind='line')"
      ]
    },
    {
      "cell_type": "code",
      "execution_count": null,
      "metadata": {
        "id": "wxPDAQ-behP3"
      },
      "outputs": [],
      "source": [
        "def filtration(data, filter_duration, plot_title):\n",
        "    data = data.values\n",
        "    transfer_func = signal.TransferFunction([1], [filter_duration, 1])\n",
        "    t = np.arange(0, len(data), 1)\n",
        "    fig, ax = plt.subplots()\n",
        "    new_t, new_data, _ = signal.lsim(transfer_func, data, t)\n",
        "    plt.title(plot_title)\n",
        "    ax.plot(t, data, label='Оригинал')\n",
        "    print(len(t) - len(new_t))\n",
        "    ax.plot(new_t, new_data, label='Сглаженный')\n",
        "    plt.legend()\n",
        "    plt.grid(True)\n",
        "    plt.savefig('../output/1day.jpg')\n",
        "filtration(df['high'], 1, 'T = 1 день')"
      ]
    },
    {
      "cell_type": "code",
      "execution_count": null,
      "metadata": {
        "id": "CacgIFk2ehP3"
      },
      "outputs": [],
      "source": []
    }
  ],
  "metadata": {
    "kernelspec": {
      "display_name": "Python 3",
      "language": "python",
      "name": "python3"
    },
    "language_info": {
      "codemirror_mode": {
        "name": "ipython",
        "version": 3
      },
      "file_extension": ".py",
      "mimetype": "text/x-python",
      "name": "python",
      "nbconvert_exporter": "python",
      "pygments_lexer": "ipython3",
      "version": "3.11.5"
    },
    "colab": {
      "provenance": []
    }
  },
  "nbformat": 4,
  "nbformat_minor": 0
}